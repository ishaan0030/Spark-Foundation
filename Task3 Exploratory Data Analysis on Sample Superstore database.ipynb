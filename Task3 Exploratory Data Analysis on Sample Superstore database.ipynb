{
 "cells": [
  {
   "cell_type": "markdown",
   "id": "7798346d",
   "metadata": {},
   "source": [
    "# GRIP: The Sparks Foundation\n",
    "\n",
    "## Data Science and Business Analytics Internship\n",
    "\n",
    "## Intern Name: Ishaun Sinha\n",
    "\n",
    "### Exploratory Data Analysis- Retail\n",
    "\n",
    "### Task 3: Perform an Exploratory Data Analysis on Sample Superstore Dataset "
   ]
  },
  {
   "cell_type": "markdown",
   "id": "6d47a002",
   "metadata": {},
   "source": [
    "### Importing the required libraries"
   ]
  },
  {
   "cell_type": "code",
   "execution_count": 2,
   "id": "b1520b41",
   "metadata": {},
   "outputs": [],
   "source": [
    "import pandas as pd\n",
    "import numpy as np\n",
    "import matplotlib.pyplot as plt\n",
    "import seaborn as sb\n",
    "import warnings\n",
    "warnings.filterwarnings('ignore')\n",
    "%matplotlib inline\n"
   ]
  },
  {
   "cell_type": "markdown",
   "id": "afddbcb0",
   "metadata": {},
   "source": [
    "### Loading the dataset"
   ]
  },
  {
   "cell_type": "code",
   "execution_count": 3,
   "id": "153f3d03",
   "metadata": {},
   "outputs": [],
   "source": [
    "df= pd.read_csv('SampleSuperstore.csv')"
   ]
  },
  {
   "cell_type": "markdown",
   "id": "b06cb9df",
   "metadata": {},
   "source": [
    "### Shape of the dataset"
   ]
  },
  {
   "cell_type": "code",
   "execution_count": 4,
   "id": "21036ca8",
   "metadata": {},
   "outputs": [
    {
     "data": {
      "text/plain": [
       "(9994, 13)"
      ]
     },
     "execution_count": 4,
     "metadata": {},
     "output_type": "execute_result"
    }
   ],
   "source": [
    "df.shape"
   ]
  },
  {
   "cell_type": "markdown",
   "id": "c986c8ef",
   "metadata": {},
   "source": [
    "### First 5 and last 5 rows"
   ]
  },
  {
   "cell_type": "code",
   "execution_count": 5,
   "id": "ff420256",
   "metadata": {},
   "outputs": [
    {
     "data": {
      "text/html": [
       "<div>\n",
       "<style scoped>\n",
       "    .dataframe tbody tr th:only-of-type {\n",
       "        vertical-align: middle;\n",
       "    }\n",
       "\n",
       "    .dataframe tbody tr th {\n",
       "        vertical-align: top;\n",
       "    }\n",
       "\n",
       "    .dataframe thead th {\n",
       "        text-align: right;\n",
       "    }\n",
       "</style>\n",
       "<table border=\"1\" class=\"dataframe\">\n",
       "  <thead>\n",
       "    <tr style=\"text-align: right;\">\n",
       "      <th></th>\n",
       "      <th>Ship Mode</th>\n",
       "      <th>Segment</th>\n",
       "      <th>Country</th>\n",
       "      <th>City</th>\n",
       "      <th>State</th>\n",
       "      <th>Postal Code</th>\n",
       "      <th>Region</th>\n",
       "      <th>Category</th>\n",
       "      <th>Sub-Category</th>\n",
       "      <th>Sales</th>\n",
       "      <th>Quantity</th>\n",
       "      <th>Discount</th>\n",
       "      <th>Profit</th>\n",
       "    </tr>\n",
       "  </thead>\n",
       "  <tbody>\n",
       "    <tr>\n",
       "      <th>0</th>\n",
       "      <td>Second Class</td>\n",
       "      <td>Consumer</td>\n",
       "      <td>United States</td>\n",
       "      <td>Henderson</td>\n",
       "      <td>Kentucky</td>\n",
       "      <td>42420</td>\n",
       "      <td>South</td>\n",
       "      <td>Furniture</td>\n",
       "      <td>Bookcases</td>\n",
       "      <td>261.9600</td>\n",
       "      <td>2</td>\n",
       "      <td>0.00</td>\n",
       "      <td>41.9136</td>\n",
       "    </tr>\n",
       "    <tr>\n",
       "      <th>1</th>\n",
       "      <td>Second Class</td>\n",
       "      <td>Consumer</td>\n",
       "      <td>United States</td>\n",
       "      <td>Henderson</td>\n",
       "      <td>Kentucky</td>\n",
       "      <td>42420</td>\n",
       "      <td>South</td>\n",
       "      <td>Furniture</td>\n",
       "      <td>Chairs</td>\n",
       "      <td>731.9400</td>\n",
       "      <td>3</td>\n",
       "      <td>0.00</td>\n",
       "      <td>219.5820</td>\n",
       "    </tr>\n",
       "    <tr>\n",
       "      <th>2</th>\n",
       "      <td>Second Class</td>\n",
       "      <td>Corporate</td>\n",
       "      <td>United States</td>\n",
       "      <td>Los Angeles</td>\n",
       "      <td>California</td>\n",
       "      <td>90036</td>\n",
       "      <td>West</td>\n",
       "      <td>Office Supplies</td>\n",
       "      <td>Labels</td>\n",
       "      <td>14.6200</td>\n",
       "      <td>2</td>\n",
       "      <td>0.00</td>\n",
       "      <td>6.8714</td>\n",
       "    </tr>\n",
       "    <tr>\n",
       "      <th>3</th>\n",
       "      <td>Standard Class</td>\n",
       "      <td>Consumer</td>\n",
       "      <td>United States</td>\n",
       "      <td>Fort Lauderdale</td>\n",
       "      <td>Florida</td>\n",
       "      <td>33311</td>\n",
       "      <td>South</td>\n",
       "      <td>Furniture</td>\n",
       "      <td>Tables</td>\n",
       "      <td>957.5775</td>\n",
       "      <td>5</td>\n",
       "      <td>0.45</td>\n",
       "      <td>-383.0310</td>\n",
       "    </tr>\n",
       "    <tr>\n",
       "      <th>4</th>\n",
       "      <td>Standard Class</td>\n",
       "      <td>Consumer</td>\n",
       "      <td>United States</td>\n",
       "      <td>Fort Lauderdale</td>\n",
       "      <td>Florida</td>\n",
       "      <td>33311</td>\n",
       "      <td>South</td>\n",
       "      <td>Office Supplies</td>\n",
       "      <td>Storage</td>\n",
       "      <td>22.3680</td>\n",
       "      <td>2</td>\n",
       "      <td>0.20</td>\n",
       "      <td>2.5164</td>\n",
       "    </tr>\n",
       "  </tbody>\n",
       "</table>\n",
       "</div>"
      ],
      "text/plain": [
       "        Ship Mode    Segment        Country             City       State  \\\n",
       "0    Second Class   Consumer  United States        Henderson    Kentucky   \n",
       "1    Second Class   Consumer  United States        Henderson    Kentucky   \n",
       "2    Second Class  Corporate  United States      Los Angeles  California   \n",
       "3  Standard Class   Consumer  United States  Fort Lauderdale     Florida   \n",
       "4  Standard Class   Consumer  United States  Fort Lauderdale     Florida   \n",
       "\n",
       "   Postal Code Region         Category Sub-Category     Sales  Quantity  \\\n",
       "0        42420  South        Furniture    Bookcases  261.9600         2   \n",
       "1        42420  South        Furniture       Chairs  731.9400         3   \n",
       "2        90036   West  Office Supplies       Labels   14.6200         2   \n",
       "3        33311  South        Furniture       Tables  957.5775         5   \n",
       "4        33311  South  Office Supplies      Storage   22.3680         2   \n",
       "\n",
       "   Discount    Profit  \n",
       "0      0.00   41.9136  \n",
       "1      0.00  219.5820  \n",
       "2      0.00    6.8714  \n",
       "3      0.45 -383.0310  \n",
       "4      0.20    2.5164  "
      ]
     },
     "execution_count": 5,
     "metadata": {},
     "output_type": "execute_result"
    }
   ],
   "source": [
    "df.head()"
   ]
  },
  {
   "cell_type": "code",
   "execution_count": 6,
   "id": "2168ca5d",
   "metadata": {},
   "outputs": [
    {
     "data": {
      "text/html": [
       "<div>\n",
       "<style scoped>\n",
       "    .dataframe tbody tr th:only-of-type {\n",
       "        vertical-align: middle;\n",
       "    }\n",
       "\n",
       "    .dataframe tbody tr th {\n",
       "        vertical-align: top;\n",
       "    }\n",
       "\n",
       "    .dataframe thead th {\n",
       "        text-align: right;\n",
       "    }\n",
       "</style>\n",
       "<table border=\"1\" class=\"dataframe\">\n",
       "  <thead>\n",
       "    <tr style=\"text-align: right;\">\n",
       "      <th></th>\n",
       "      <th>Ship Mode</th>\n",
       "      <th>Segment</th>\n",
       "      <th>Country</th>\n",
       "      <th>City</th>\n",
       "      <th>State</th>\n",
       "      <th>Postal Code</th>\n",
       "      <th>Region</th>\n",
       "      <th>Category</th>\n",
       "      <th>Sub-Category</th>\n",
       "      <th>Sales</th>\n",
       "      <th>Quantity</th>\n",
       "      <th>Discount</th>\n",
       "      <th>Profit</th>\n",
       "    </tr>\n",
       "  </thead>\n",
       "  <tbody>\n",
       "    <tr>\n",
       "      <th>9989</th>\n",
       "      <td>Second Class</td>\n",
       "      <td>Consumer</td>\n",
       "      <td>United States</td>\n",
       "      <td>Miami</td>\n",
       "      <td>Florida</td>\n",
       "      <td>33180</td>\n",
       "      <td>South</td>\n",
       "      <td>Furniture</td>\n",
       "      <td>Furnishings</td>\n",
       "      <td>25.248</td>\n",
       "      <td>3</td>\n",
       "      <td>0.2</td>\n",
       "      <td>4.1028</td>\n",
       "    </tr>\n",
       "    <tr>\n",
       "      <th>9990</th>\n",
       "      <td>Standard Class</td>\n",
       "      <td>Consumer</td>\n",
       "      <td>United States</td>\n",
       "      <td>Costa Mesa</td>\n",
       "      <td>California</td>\n",
       "      <td>92627</td>\n",
       "      <td>West</td>\n",
       "      <td>Furniture</td>\n",
       "      <td>Furnishings</td>\n",
       "      <td>91.960</td>\n",
       "      <td>2</td>\n",
       "      <td>0.0</td>\n",
       "      <td>15.6332</td>\n",
       "    </tr>\n",
       "    <tr>\n",
       "      <th>9991</th>\n",
       "      <td>Standard Class</td>\n",
       "      <td>Consumer</td>\n",
       "      <td>United States</td>\n",
       "      <td>Costa Mesa</td>\n",
       "      <td>California</td>\n",
       "      <td>92627</td>\n",
       "      <td>West</td>\n",
       "      <td>Technology</td>\n",
       "      <td>Phones</td>\n",
       "      <td>258.576</td>\n",
       "      <td>2</td>\n",
       "      <td>0.2</td>\n",
       "      <td>19.3932</td>\n",
       "    </tr>\n",
       "    <tr>\n",
       "      <th>9992</th>\n",
       "      <td>Standard Class</td>\n",
       "      <td>Consumer</td>\n",
       "      <td>United States</td>\n",
       "      <td>Costa Mesa</td>\n",
       "      <td>California</td>\n",
       "      <td>92627</td>\n",
       "      <td>West</td>\n",
       "      <td>Office Supplies</td>\n",
       "      <td>Paper</td>\n",
       "      <td>29.600</td>\n",
       "      <td>4</td>\n",
       "      <td>0.0</td>\n",
       "      <td>13.3200</td>\n",
       "    </tr>\n",
       "    <tr>\n",
       "      <th>9993</th>\n",
       "      <td>Second Class</td>\n",
       "      <td>Consumer</td>\n",
       "      <td>United States</td>\n",
       "      <td>Westminster</td>\n",
       "      <td>California</td>\n",
       "      <td>92683</td>\n",
       "      <td>West</td>\n",
       "      <td>Office Supplies</td>\n",
       "      <td>Appliances</td>\n",
       "      <td>243.160</td>\n",
       "      <td>2</td>\n",
       "      <td>0.0</td>\n",
       "      <td>72.9480</td>\n",
       "    </tr>\n",
       "  </tbody>\n",
       "</table>\n",
       "</div>"
      ],
      "text/plain": [
       "           Ship Mode   Segment        Country         City       State  \\\n",
       "9989    Second Class  Consumer  United States        Miami     Florida   \n",
       "9990  Standard Class  Consumer  United States   Costa Mesa  California   \n",
       "9991  Standard Class  Consumer  United States   Costa Mesa  California   \n",
       "9992  Standard Class  Consumer  United States   Costa Mesa  California   \n",
       "9993    Second Class  Consumer  United States  Westminster  California   \n",
       "\n",
       "      Postal Code Region         Category Sub-Category    Sales  Quantity  \\\n",
       "9989        33180  South        Furniture  Furnishings   25.248         3   \n",
       "9990        92627   West        Furniture  Furnishings   91.960         2   \n",
       "9991        92627   West       Technology       Phones  258.576         2   \n",
       "9992        92627   West  Office Supplies        Paper   29.600         4   \n",
       "9993        92683   West  Office Supplies   Appliances  243.160         2   \n",
       "\n",
       "      Discount   Profit  \n",
       "9989       0.2   4.1028  \n",
       "9990       0.0  15.6332  \n",
       "9991       0.2  19.3932  \n",
       "9992       0.0  13.3200  \n",
       "9993       0.0  72.9480  "
      ]
     },
     "execution_count": 6,
     "metadata": {},
     "output_type": "execute_result"
    }
   ],
   "source": [
    "df.tail()"
   ]
  },
  {
   "cell_type": "markdown",
   "id": "534ddb92",
   "metadata": {},
   "source": [
    "### Statistical Overview "
   ]
  },
  {
   "cell_type": "code",
   "execution_count": 7,
   "id": "e07f3551",
   "metadata": {},
   "outputs": [
    {
     "data": {
      "text/html": [
       "<div>\n",
       "<style scoped>\n",
       "    .dataframe tbody tr th:only-of-type {\n",
       "        vertical-align: middle;\n",
       "    }\n",
       "\n",
       "    .dataframe tbody tr th {\n",
       "        vertical-align: top;\n",
       "    }\n",
       "\n",
       "    .dataframe thead th {\n",
       "        text-align: right;\n",
       "    }\n",
       "</style>\n",
       "<table border=\"1\" class=\"dataframe\">\n",
       "  <thead>\n",
       "    <tr style=\"text-align: right;\">\n",
       "      <th></th>\n",
       "      <th>Postal Code</th>\n",
       "      <th>Sales</th>\n",
       "      <th>Quantity</th>\n",
       "      <th>Discount</th>\n",
       "      <th>Profit</th>\n",
       "    </tr>\n",
       "  </thead>\n",
       "  <tbody>\n",
       "    <tr>\n",
       "      <th>count</th>\n",
       "      <td>9994.000000</td>\n",
       "      <td>9994.000000</td>\n",
       "      <td>9994.000000</td>\n",
       "      <td>9994.000000</td>\n",
       "      <td>9994.000000</td>\n",
       "    </tr>\n",
       "    <tr>\n",
       "      <th>mean</th>\n",
       "      <td>55190.379428</td>\n",
       "      <td>229.858001</td>\n",
       "      <td>3.789574</td>\n",
       "      <td>0.156203</td>\n",
       "      <td>28.656896</td>\n",
       "    </tr>\n",
       "    <tr>\n",
       "      <th>std</th>\n",
       "      <td>32063.693350</td>\n",
       "      <td>623.245101</td>\n",
       "      <td>2.225110</td>\n",
       "      <td>0.206452</td>\n",
       "      <td>234.260108</td>\n",
       "    </tr>\n",
       "    <tr>\n",
       "      <th>min</th>\n",
       "      <td>1040.000000</td>\n",
       "      <td>0.444000</td>\n",
       "      <td>1.000000</td>\n",
       "      <td>0.000000</td>\n",
       "      <td>-6599.978000</td>\n",
       "    </tr>\n",
       "    <tr>\n",
       "      <th>25%</th>\n",
       "      <td>23223.000000</td>\n",
       "      <td>17.280000</td>\n",
       "      <td>2.000000</td>\n",
       "      <td>0.000000</td>\n",
       "      <td>1.728750</td>\n",
       "    </tr>\n",
       "    <tr>\n",
       "      <th>50%</th>\n",
       "      <td>56430.500000</td>\n",
       "      <td>54.490000</td>\n",
       "      <td>3.000000</td>\n",
       "      <td>0.200000</td>\n",
       "      <td>8.666500</td>\n",
       "    </tr>\n",
       "    <tr>\n",
       "      <th>75%</th>\n",
       "      <td>90008.000000</td>\n",
       "      <td>209.940000</td>\n",
       "      <td>5.000000</td>\n",
       "      <td>0.200000</td>\n",
       "      <td>29.364000</td>\n",
       "    </tr>\n",
       "    <tr>\n",
       "      <th>max</th>\n",
       "      <td>99301.000000</td>\n",
       "      <td>22638.480000</td>\n",
       "      <td>14.000000</td>\n",
       "      <td>0.800000</td>\n",
       "      <td>8399.976000</td>\n",
       "    </tr>\n",
       "  </tbody>\n",
       "</table>\n",
       "</div>"
      ],
      "text/plain": [
       "        Postal Code         Sales     Quantity     Discount       Profit\n",
       "count   9994.000000   9994.000000  9994.000000  9994.000000  9994.000000\n",
       "mean   55190.379428    229.858001     3.789574     0.156203    28.656896\n",
       "std    32063.693350    623.245101     2.225110     0.206452   234.260108\n",
       "min     1040.000000      0.444000     1.000000     0.000000 -6599.978000\n",
       "25%    23223.000000     17.280000     2.000000     0.000000     1.728750\n",
       "50%    56430.500000     54.490000     3.000000     0.200000     8.666500\n",
       "75%    90008.000000    209.940000     5.000000     0.200000    29.364000\n",
       "max    99301.000000  22638.480000    14.000000     0.800000  8399.976000"
      ]
     },
     "execution_count": 7,
     "metadata": {},
     "output_type": "execute_result"
    }
   ],
   "source": [
    "df.describe()"
   ]
  },
  {
   "cell_type": "markdown",
   "id": "51f254b8",
   "metadata": {},
   "source": [
    "### Columns"
   ]
  },
  {
   "cell_type": "code",
   "execution_count": 8,
   "id": "b8e42f4c",
   "metadata": {},
   "outputs": [
    {
     "data": {
      "text/plain": [
       "Index(['Ship Mode', 'Segment', 'Country', 'City', 'State', 'Postal Code',\n",
       "       'Region', 'Category', 'Sub-Category', 'Sales', 'Quantity', 'Discount',\n",
       "       'Profit'],\n",
       "      dtype='object')"
      ]
     },
     "execution_count": 8,
     "metadata": {},
     "output_type": "execute_result"
    }
   ],
   "source": [
    "df.columns"
   ]
  },
  {
   "cell_type": "markdown",
   "id": "27c7c231",
   "metadata": {},
   "source": [
    "### Overall info about the dataset"
   ]
  },
  {
   "cell_type": "code",
   "execution_count": 9,
   "id": "8e287b11",
   "metadata": {},
   "outputs": [
    {
     "name": "stdout",
     "output_type": "stream",
     "text": [
      "<class 'pandas.core.frame.DataFrame'>\n",
      "RangeIndex: 9994 entries, 0 to 9993\n",
      "Data columns (total 13 columns):\n",
      " #   Column        Non-Null Count  Dtype  \n",
      "---  ------        --------------  -----  \n",
      " 0   Ship Mode     9994 non-null   object \n",
      " 1   Segment       9994 non-null   object \n",
      " 2   Country       9994 non-null   object \n",
      " 3   City          9994 non-null   object \n",
      " 4   State         9994 non-null   object \n",
      " 5   Postal Code   9994 non-null   int64  \n",
      " 6   Region        9994 non-null   object \n",
      " 7   Category      9994 non-null   object \n",
      " 8   Sub-Category  9994 non-null   object \n",
      " 9   Sales         9994 non-null   float64\n",
      " 10  Quantity      9994 non-null   int64  \n",
      " 11  Discount      9994 non-null   float64\n",
      " 12  Profit        9994 non-null   float64\n",
      "dtypes: float64(3), int64(2), object(8)\n",
      "memory usage: 1015.1+ KB\n"
     ]
    }
   ],
   "source": [
    "df.info()"
   ]
  },
  {
   "cell_type": "code",
   "execution_count": 11,
   "id": "77644741",
   "metadata": {},
   "outputs": [
    {
     "data": {
      "text/plain": [
       "Ship Mode        object\n",
       "Segment          object\n",
       "Country          object\n",
       "City             object\n",
       "State            object\n",
       "Postal Code       int64\n",
       "Region           object\n",
       "Category         object\n",
       "Sub-Category     object\n",
       "Sales           float64\n",
       "Quantity          int64\n",
       "Discount        float64\n",
       "Profit          float64\n",
       "dtype: object"
      ]
     },
     "execution_count": 11,
     "metadata": {},
     "output_type": "execute_result"
    }
   ],
   "source": [
    "df.dtypes"
   ]
  },
  {
   "cell_type": "markdown",
   "id": "9bb0906f",
   "metadata": {},
   "source": [
    "### Checking for missing values and outliers"
   ]
  },
  {
   "cell_type": "code",
   "execution_count": 12,
   "id": "3d31182e",
   "metadata": {},
   "outputs": [
    {
     "data": {
      "text/plain": [
       "Ship Mode       0\n",
       "Segment         0\n",
       "Country         0\n",
       "City            0\n",
       "State           0\n",
       "Postal Code     0\n",
       "Region          0\n",
       "Category        0\n",
       "Sub-Category    0\n",
       "Sales           0\n",
       "Quantity        0\n",
       "Discount        0\n",
       "Profit          0\n",
       "dtype: int64"
      ]
     },
     "execution_count": 12,
     "metadata": {},
     "output_type": "execute_result"
    }
   ],
   "source": [
    "df.isnull().sum()"
   ]
  },
  {
   "cell_type": "markdown",
   "id": "c8081078",
   "metadata": {},
   "source": [
    "### Univariate Analysis"
   ]
  },
  {
   "cell_type": "code",
   "execution_count": 13,
   "id": "cbecdc08",
   "metadata": {},
   "outputs": [
    {
     "data": {
      "text/plain": [
       "array(['Second Class', 'Standard Class', 'First Class', 'Same Day'],\n",
       "      dtype=object)"
      ]
     },
     "execution_count": 13,
     "metadata": {},
     "output_type": "execute_result"
    }
   ],
   "source": [
    "df['Ship Mode'].unique()"
   ]
  },
  {
   "cell_type": "code",
   "execution_count": 14,
   "id": "70833102",
   "metadata": {},
   "outputs": [
    {
     "data": {
      "text/plain": [
       "array(['Henderson', 'Los Angeles', 'Fort Lauderdale', 'Concord',\n",
       "       'Seattle', 'Fort Worth', 'Madison', 'West Jordan', 'San Francisco',\n",
       "       'Fremont', 'Philadelphia', 'Orem', 'Houston', 'Richardson',\n",
       "       'Naperville', 'Melbourne', 'Eagan', 'Westland', 'Dover',\n",
       "       'New Albany', 'New York City', 'Troy', 'Chicago', 'Gilbert',\n",
       "       'Springfield', 'Jackson', 'Memphis', 'Decatur', 'Durham',\n",
       "       'Columbia', 'Rochester', 'Minneapolis', 'Portland', 'Saint Paul',\n",
       "       'Aurora', 'Charlotte', 'Orland Park', 'Urbandale', 'Columbus',\n",
       "       'Bristol', 'Wilmington', 'Bloomington', 'Phoenix', 'Roseville',\n",
       "       'Independence', 'Pasadena', 'Newark', 'Franklin', 'Scottsdale',\n",
       "       'San Jose', 'Edmond', 'Carlsbad', 'San Antonio', 'Monroe',\n",
       "       'Fairfield', 'Grand Prairie', 'Redlands', 'Hamilton', 'Westfield',\n",
       "       'Akron', 'Denver', 'Dallas', 'Whittier', 'Saginaw', 'Medina',\n",
       "       'Dublin', 'Detroit', 'Tampa', 'Santa Clara', 'Lakeville',\n",
       "       'San Diego', 'Brentwood', 'Chapel Hill', 'Morristown',\n",
       "       'Cincinnati', 'Inglewood', 'Tamarac', 'Colorado Springs',\n",
       "       'Belleville', 'Taylor', 'Lakewood', 'Arlington', 'Arvada',\n",
       "       'Hackensack', 'Saint Petersburg', 'Long Beach', 'Hesperia',\n",
       "       'Murfreesboro', 'Layton', 'Austin', 'Lowell', 'Manchester',\n",
       "       'Harlingen', 'Tucson', 'Quincy', 'Pembroke Pines', 'Des Moines',\n",
       "       'Peoria', 'Las Vegas', 'Warwick', 'Miami', 'Huntington Beach',\n",
       "       'Richmond', 'Louisville', 'Lawrence', 'Canton', 'New Rochelle',\n",
       "       'Gastonia', 'Jacksonville', 'Auburn', 'Norman', 'Park Ridge',\n",
       "       'Amarillo', 'Lindenhurst', 'Huntsville', 'Fayetteville',\n",
       "       'Costa Mesa', 'Parker', 'Atlanta', 'Gladstone', 'Great Falls',\n",
       "       'Lakeland', 'Montgomery', 'Mesa', 'Green Bay', 'Anaheim',\n",
       "       'Marysville', 'Salem', 'Laredo', 'Grove City', 'Dearborn',\n",
       "       'Warner Robins', 'Vallejo', 'Mission Viejo', 'Rochester Hills',\n",
       "       'Plainfield', 'Sierra Vista', 'Vancouver', 'Cleveland', 'Tyler',\n",
       "       'Burlington', 'Waynesboro', 'Chester', 'Cary', 'Palm Coast',\n",
       "       'Mount Vernon', 'Hialeah', 'Oceanside', 'Evanston', 'Trenton',\n",
       "       'Cottage Grove', 'Bossier City', 'Lancaster', 'Asheville',\n",
       "       'Lake Elsinore', 'Omaha', 'Edmonds', 'Santa Ana', 'Milwaukee',\n",
       "       'Florence', 'Lorain', 'Linden', 'Salinas', 'New Brunswick',\n",
       "       'Garland', 'Norwich', 'Alexandria', 'Toledo', 'Farmington',\n",
       "       'Riverside', 'Torrance', 'Round Rock', 'Boca Raton',\n",
       "       'Virginia Beach', 'Murrieta', 'Olympia', 'Washington',\n",
       "       'Jefferson City', 'Saint Peters', 'Rockford', 'Brownsville',\n",
       "       'Yonkers', 'Oakland', 'Clinton', 'Encinitas', 'Roswell',\n",
       "       'Jonesboro', 'Antioch', 'Homestead', 'La Porte', 'Lansing',\n",
       "       'Cuyahoga Falls', 'Reno', 'Harrisonburg', 'Escondido', 'Royal Oak',\n",
       "       'Rockville', 'Coral Springs', 'Buffalo', 'Boynton Beach',\n",
       "       'Gulfport', 'Fresno', 'Greenville', 'Macon', 'Cedar Rapids',\n",
       "       'Providence', 'Pueblo', 'Deltona', 'Murray', 'Middletown',\n",
       "       'Freeport', 'Pico Rivera', 'Provo', 'Pleasant Grove', 'Smyrna',\n",
       "       'Parma', 'Mobile', 'New Bedford', 'Irving', 'Vineland', 'Glendale',\n",
       "       'Niagara Falls', 'Thomasville', 'Westminster', 'Coppell', 'Pomona',\n",
       "       'North Las Vegas', 'Allentown', 'Tempe', 'Laguna Niguel',\n",
       "       'Bridgeton', 'Everett', 'Watertown', 'Appleton', 'Bellevue',\n",
       "       'Allen', 'El Paso', 'Grapevine', 'Carrollton', 'Kent', 'Lafayette',\n",
       "       'Tigard', 'Skokie', 'Plano', 'Suffolk', 'Indianapolis', 'Bayonne',\n",
       "       'Greensboro', 'Baltimore', 'Kenosha', 'Olathe', 'Tulsa', 'Redmond',\n",
       "       'Raleigh', 'Muskogee', 'Meriden', 'Bowling Green', 'South Bend',\n",
       "       'Spokane', 'Keller', 'Port Orange', 'Medford', 'Charlottesville',\n",
       "       'Missoula', 'Apopka', 'Reading', 'Broomfield', 'Paterson',\n",
       "       'Oklahoma City', 'Chesapeake', 'Lubbock', 'Johnson City',\n",
       "       'San Bernardino', 'Leominster', 'Bozeman', 'Perth Amboy',\n",
       "       'Ontario', 'Rancho Cucamonga', 'Moorhead', 'Mesquite', 'Stockton',\n",
       "       'Ormond Beach', 'Sunnyvale', 'York', 'College Station',\n",
       "       'Saint Louis', 'Manteca', 'San Angelo', 'Salt Lake City',\n",
       "       'Knoxville', 'Little Rock', 'Lincoln Park', 'Marion', 'Littleton',\n",
       "       'Bangor', 'Southaven', 'New Castle', 'Midland', 'Sioux Falls',\n",
       "       'Fort Collins', 'Clarksville', 'Sacramento', 'Thousand Oaks',\n",
       "       'Malden', 'Holyoke', 'Albuquerque', 'Sparks', 'Coachella',\n",
       "       'Elmhurst', 'Passaic', 'North Charleston', 'Newport News',\n",
       "       'Jamestown', 'Mishawaka', 'La Quinta', 'Tallahassee', 'Nashville',\n",
       "       'Bellingham', 'Woodstock', 'Haltom City', 'Wheeling',\n",
       "       'Summerville', 'Hot Springs', 'Englewood', 'Las Cruces', 'Hoover',\n",
       "       'Frisco', 'Vacaville', 'Waukesha', 'Bakersfield', 'Pompano Beach',\n",
       "       'Corpus Christi', 'Redondo Beach', 'Orlando', 'Orange',\n",
       "       'Lake Charles', 'Highland Park', 'Hempstead', 'Noblesville',\n",
       "       'Apple Valley', 'Mount Pleasant', 'Sterling Heights', 'Eau Claire',\n",
       "       'Pharr', 'Billings', 'Gresham', 'Chattanooga', 'Meridian',\n",
       "       'Bolingbrook', 'Maple Grove', 'Woodland', 'Missouri City',\n",
       "       'Pearland', 'San Mateo', 'Grand Rapids', 'Visalia',\n",
       "       'Overland Park', 'Temecula', 'Yucaipa', 'Revere', 'Conroe',\n",
       "       'Tinley Park', 'Dubuque', 'Dearborn Heights', 'Santa Fe',\n",
       "       'Hickory', 'Carol Stream', 'Saint Cloud', 'North Miami',\n",
       "       'Plantation', 'Port Saint Lucie', 'Rock Hill', 'Odessa',\n",
       "       'West Allis', 'Chula Vista', 'Manhattan', 'Altoona', 'Thornton',\n",
       "       'Champaign', 'Texarkana', 'Edinburg', 'Baytown', 'Greenwood',\n",
       "       'Woonsocket', 'Superior', 'Bedford', 'Covington', 'Broken Arrow',\n",
       "       'Miramar', 'Hollywood', 'Deer Park', 'Wichita', 'Mcallen',\n",
       "       'Iowa City', 'Boise', 'Cranston', 'Port Arthur', 'Citrus Heights',\n",
       "       'The Colony', 'Daytona Beach', 'Bullhead City', 'Portage', 'Fargo',\n",
       "       'Elkhart', 'San Gabriel', 'Margate', 'Sandy Springs', 'Mentor',\n",
       "       'Lawton', 'Hampton', 'Rome', 'La Crosse', 'Lewiston',\n",
       "       'Hattiesburg', 'Danville', 'Logan', 'Waterbury', 'Athens',\n",
       "       'Avondale', 'Marietta', 'Yuma', 'Wausau', 'Pasco', 'Oak Park',\n",
       "       'Pensacola', 'League City', 'Gaithersburg', 'Lehi', 'Tuscaloosa',\n",
       "       'Moreno Valley', 'Georgetown', 'Loveland', 'Chandler', 'Helena',\n",
       "       'Kirkwood', 'Waco', 'Frankfort', 'Bethlehem', 'Grand Island',\n",
       "       'Woodbury', 'Rogers', 'Clovis', 'Jupiter', 'Santa Barbara',\n",
       "       'Cedar Hill', 'Norfolk', 'Draper', 'Ann Arbor', 'La Mesa',\n",
       "       'Pocatello', 'Holland', 'Milford', 'Buffalo Grove', 'Lake Forest',\n",
       "       'Redding', 'Chico', 'Utica', 'Conway', 'Cheyenne', 'Owensboro',\n",
       "       'Caldwell', 'Kenner', 'Nashua', 'Bartlett', 'Redwood City',\n",
       "       'Lebanon', 'Santa Maria', 'Des Plaines', 'Longview',\n",
       "       'Hendersonville', 'Waterloo', 'Cambridge', 'Palatine', 'Beverly',\n",
       "       'Eugene', 'Oxnard', 'Renton', 'Glenview', 'Delray Beach',\n",
       "       'Commerce City', 'Texas City', 'Wilson', 'Rio Rancho', 'Goldsboro',\n",
       "       'Montebello', 'El Cajon', 'Beaumont', 'West Palm Beach', 'Abilene',\n",
       "       'Normal', 'Saint Charles', 'Camarillo', 'Hillsboro', 'Burbank',\n",
       "       'Modesto', 'Garden City', 'Atlantic City', 'Longmont', 'Davis',\n",
       "       'Morgan Hill', 'Clifton', 'Sheboygan', 'East Point', 'Rapid City',\n",
       "       'Andover', 'Kissimmee', 'Shelton', 'Danbury', 'Sanford',\n",
       "       'San Marcos', 'Greeley', 'Mansfield', 'Elyria', 'Twin Falls',\n",
       "       'Coral Gables', 'Romeoville', 'Marlborough', 'Laurel', 'Bryan',\n",
       "       'Pine Bluff', 'Aberdeen', 'Hagerstown', 'East Orange',\n",
       "       'Arlington Heights', 'Oswego', 'Coon Rapids', 'San Clemente',\n",
       "       'San Luis Obispo', 'Springdale', 'Lodi', 'Mason'], dtype=object)"
      ]
     },
     "execution_count": 14,
     "metadata": {},
     "output_type": "execute_result"
    }
   ],
   "source": [
    "df['City'].unique()"
   ]
  },
  {
   "cell_type": "code",
   "execution_count": null,
   "id": "90ca35dc",
   "metadata": {},
   "outputs": [],
   "source": []
  }
 ],
 "metadata": {
  "kernelspec": {
   "display_name": "Python 3 (ipykernel)",
   "language": "python",
   "name": "python3"
  },
  "language_info": {
   "codemirror_mode": {
    "name": "ipython",
    "version": 3
   },
   "file_extension": ".py",
   "mimetype": "text/x-python",
   "name": "python",
   "nbconvert_exporter": "python",
   "pygments_lexer": "ipython3",
   "version": "3.9.6"
  }
 },
 "nbformat": 4,
 "nbformat_minor": 5
}
